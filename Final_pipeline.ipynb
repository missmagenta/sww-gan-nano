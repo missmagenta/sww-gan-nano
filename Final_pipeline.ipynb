{
 "cells": [
  {
   "cell_type": "code",
   "execution_count": 1,
   "metadata": {},
   "outputs": [
    {
     "name": "stderr",
     "output_type": "stream",
     "text": [
      "c:\\Users\\waren\\mambaforge\\envs\\cc\\lib\\site-packages\\torchaudio\\backend\\utils.py:62: UserWarning: No audio backend is available.\n",
      "  warnings.warn(\"No audio backend is available.\")\n"
     ]
    }
   ],
   "source": [
    "from VAE_architecture import VAE, AE\n",
    "from utils import time_to_sec\n",
    "import torch\n",
    "import torchvision.transforms as T\n",
    "from PIL import Image\n",
    "from transformers import BertTokenizer, BertModel\n",
    "import pandas as pd\n",
    "import numpy as np\n",
    "from torchvision.utils import save_image"
   ]
  },
  {
   "cell_type": "code",
   "execution_count": 2,
   "metadata": {},
   "outputs": [
    {
     "name": "stderr",
     "output_type": "stream",
     "text": [
      "Some weights of the model checkpoint at bert-base-uncased were not used when initializing BertModel: ['cls.predictions.bias', 'cls.seq_relationship.weight', 'cls.seq_relationship.bias', 'cls.predictions.transform.dense.weight', 'cls.predictions.transform.LayerNorm.bias', 'cls.predictions.transform.dense.bias', 'cls.predictions.transform.LayerNorm.weight']\n",
      "- This IS expected if you are initializing BertModel from the checkpoint of a model trained on another task or with another architecture (e.g. initializing a BertForSequenceClassification model from a BertForPreTraining model).\n",
      "- This IS NOT expected if you are initializing BertModel from the checkpoint of a model that you expect to be exactly identical (initializing a BertForSequenceClassification model from a BertForSequenceClassification model).\n"
     ]
    }
   ],
   "source": [
    "tokenizer = BertTokenizer.from_pretrained('bert-base-uncased')\n",
    "model = BertModel.from_pretrained(\"bert-base-uncased\")\n",
    "ae = AE.load_from_checkpoint('data/Checkpoints/ae.ckpt').eval()\n",
    "vae = VAE.load_from_checkpoint('data/Checkpoints/vae.ckpt').eval()\n",
    "template = \"All the materials were synthesized by the co-precipitation technique. First, 1 M CaCl2 with final concentration of Ca ion being {} mM was mixed with {} polymer with molecular weight of {} kDa and content being {} % wt. Then, {} solvent was added with final volume content being {}, following adjustment with distilled water up to 500 mkl. Then, 0.1 M Na2CO3 with final concentration of CO3 ions being {} was mixed with 0.1 M of NaHCO3 with final concentration of HCO3 ions being {} and {} surfactant with content being {} % wt. Then, same solvent was added, following adjustment with distilled water up to 500 mkl. Two resulting solutions, heated up to {} C before the reaction, were mixed under the stirring with {} rpm, while the temperature kept unchanged. Reaction proceeded for {} sec following centrifugation.\""
   ]
  },
  {
   "cell_type": "code",
   "execution_count": null,
   "metadata": {},
   "outputs": [],
   "source": [
    "input = pd.read_excel('data\\Initial_data.xlsx').iloc[154].to_list()"
   ]
  },
  {
   "cell_type": "code",
   "execution_count": null,
   "metadata": {},
   "outputs": [],
   "source": [
    "formatted_template = template.format(input[0], input[3], input[4], input[5], input[-5], input[-4], input[1], input[2], input[6], input[7], input[-2], input[-3], time_to_sec(input[-1]))\n",
    "with torch.no_grad():\n",
    "    encoded_inputs = tokenizer(formatted_template, return_tensors='pt', padding='max_length', max_length=250)\n",
    "    outputs = model(**encoded_inputs).last_hidden_state[:,0,:]\n",
    "    image_embeddings = ae(outputs.to(ae.device))\n",
    "    mu = vae.fc_mu(image_embeddings.to(vae.device))\n",
    "    log_var = vae.fc_var(image_embeddings.to(vae.device))\n",
    "    p, q, z = vae.sample(mu, log_var)\n",
    "    image = vae.decoder(z)"
   ]
  },
  {
   "cell_type": "code",
   "execution_count": null,
   "metadata": {},
   "outputs": [],
   "source": [
    "save_image(image * 3, 'img1.png')"
   ]
  }
 ],
 "metadata": {
  "kernelspec": {
   "display_name": "cc",
   "language": "python",
   "name": "python3"
  },
  "language_info": {
   "codemirror_mode": {
    "name": "ipython",
    "version": 3
   },
   "file_extension": ".py",
   "mimetype": "text/x-python",
   "name": "python",
   "nbconvert_exporter": "python",
   "pygments_lexer": "ipython3",
   "version": "3.10.8"
  },
  "orig_nbformat": 4
 },
 "nbformat": 4,
 "nbformat_minor": 2
}
