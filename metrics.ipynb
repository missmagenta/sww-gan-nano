{
 "cells": [
  {
   "cell_type": "code",
   "execution_count": 10,
   "metadata": {},
   "outputs": [
    {
     "name": "stdout",
     "output_type": "stream",
     "text": [
      "SSIM: 0.6896740883220142\n"
     ]
    }
   ],
   "source": [
    "from skimage.metrics import structural_similarity as ssim\n",
    "import argparse\n",
    "import imutils\n",
    "import cv2\n",
    "from PIL import Image\n",
    "\n",
    "# 3. Load the two input images\n",
    "imageA = cv2.imread('img1.png')\n",
    "imageB = cv2.imread('data\\one_particle\\img\\object_154_7.png')\n",
    "imageA = imageA[75:149, 75:149]\n",
    "imageB = imageB[75:149, 75:149]\n",
    "cv2.imwrite(\"1.png\", imageA)\n",
    "cv2.imwrite(\"2.png\", imageB)\n",
    "# 4. Convert the images to grayscale\n",
    "grayA = cv2.cvtColor(imageA, cv2.COLOR_BGR2GRAY)\n",
    "grayB = cv2.cvtColor(imageB, cv2.COLOR_BGR2GRAY)\n",
    "\n",
    "# 5. Compute the Structural Similarity Index (SSIM) between the two\n",
    "#    images, ensuring that the difference image is returned\n",
    "#(score, diff) = compare_ssim(grayA, grayB, full=True)\n",
    "(score, diff) = ssim(grayA, grayB, full=True)\n",
    "diff = (diff * 255).astype(\"uint8\")\n",
    "\n",
    "# 6. You can print only the score if you want\n",
    "print(\"SSIM: {}\".format(score))"
   ]
  },
  {
   "cell_type": "code",
   "execution_count": 11,
   "metadata": {},
   "outputs": [],
   "source": [
    "from math import log10, sqrt\n",
    "import cv2\n",
    "import numpy as np\n",
    "  \n",
    "def PSNR(original, compressed):\n",
    "    mse = np.mean((original - compressed) ** 2)\n",
    "    if(mse == 0):  # MSE is zero means no noise is present in the signal .\n",
    "                  # Therefore PSNR have no importance.\n",
    "        return 100\n",
    "    max_pixel = 255.0\n",
    "    psnr = 20 * log10(max_pixel / sqrt(mse))\n",
    "    return psnr\n",
    "  \n",
    "def main():\n",
    "     value = PSNR(imageA, imageB)\n",
    "     print(f\"PSNR value is {value} dB\")"
   ]
  },
  {
   "cell_type": "code",
   "execution_count": 12,
   "metadata": {},
   "outputs": [
    {
     "name": "stdout",
     "output_type": "stream",
     "text": [
      "PSNR value is 34.585075473847 dB\n"
     ]
    }
   ],
   "source": [
    "main()"
   ]
  }
 ],
 "metadata": {
  "kernelspec": {
   "display_name": "cc",
   "language": "python",
   "name": "python3"
  },
  "language_info": {
   "codemirror_mode": {
    "name": "ipython",
    "version": 3
   },
   "file_extension": ".py",
   "mimetype": "text/x-python",
   "name": "python",
   "nbconvert_exporter": "python",
   "pygments_lexer": "ipython3",
   "version": "3.10.8"
  },
  "orig_nbformat": 4
 },
 "nbformat": 4,
 "nbformat_minor": 2
}
