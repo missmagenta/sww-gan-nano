{
 "cells": [
  {
   "cell_type": "code",
   "execution_count": 12,
   "metadata": {},
   "outputs": [],
   "source": [
    "from Final_pipeline import model_inference\n",
    "import gradio as gr\n",
    "from torchvision.utils import save_image"
   ]
  },
  {
   "cell_type": "code",
   "execution_count": 13,
   "metadata": {},
   "outputs": [],
   "source": [
    "formatted_template, image = model_inference(70, 40, 0, 'None', 0, 0, 'Sodium dodecylsulfate', 0.07, 'Isopropyl alcohol', 18.60, 590, 19, 855)"
   ]
  },
  {
   "cell_type": "code",
   "execution_count": null,
   "metadata": {},
   "outputs": [],
   "source": [
    "[81, 22, 0, 'PVP', 40, 0.34, 'Myristyltrimethylammonium bromide', 0.43, 'None', 0, 0, 58, 5340]"
   ]
  },
  {
   "cell_type": "code",
   "execution_count": null,
   "metadata": {},
   "outputs": [],
   "source": [
    "[70, 40, 0, 'None', 0, 0, 'Sodium dodecylsulfate', 0.07, 'Isopropyl alcohol', 18.60, 590, 19, 855]"
   ]
  },
  {
   "cell_type": "code",
   "execution_count": 14,
   "metadata": {},
   "outputs": [],
   "source": [
    "save_image(image * 3, 'img1.png')"
   ]
  },
  {
   "cell_type": "code",
   "execution_count": 4,
   "metadata": {},
   "outputs": [],
   "source": [
    "examples = [\n",
    "    [\n",
    "        81,\n",
    "        22,\n",
    "        0,\n",
    "        \"PVP\",\n",
    "        40,\n",
    "        0.34,\n",
    "        \"Myristyltrimethylammonium bromide\",\n",
    "        0.43,\n",
    "        \"None\",\n",
    "        0,\n",
    "        0,\n",
    "        58,\n",
    "        5340,\n",
    "    ],\n",
    "    [\n",
    "        81,\n",
    "        22,\n",
    "        0,\n",
    "        \"PVP\",\n",
    "        40,\n",
    "        0.34,\n",
    "        \"Myristyltrimethylammonium bromide\",\n",
    "        0.43,\n",
    "        \"None\",\n",
    "        0,\n",
    "        0,\n",
    "        58,\n",
    "        5340,\n",
    "    ],\n",
    "]"
   ]
  },
  {
   "cell_type": "code",
   "execution_count": 6,
   "metadata": {},
   "outputs": [
    {
     "name": "stdout",
     "output_type": "stream",
     "text": [
      "Running on local URL:  http://127.0.0.1:7861\n",
      "\n",
      "To create a public link, set `share=True` in `launch()`.\n"
     ]
    },
    {
     "data": {
      "text/html": [
       "<div><iframe src=\"http://127.0.0.1:7861/\" width=\"100%\" height=\"500\" allow=\"autoplay; camera; microphone; clipboard-read; clipboard-write;\" frameborder=\"0\" allowfullscreen></iframe></div>"
      ],
      "text/plain": [
       "<IPython.core.display.HTML object>"
      ]
     },
     "metadata": {},
     "output_type": "display_data"
    },
    {
     "data": {
      "text/plain": []
     },
     "execution_count": 6,
     "metadata": {},
     "output_type": "execute_result"
    }
   ],
   "source": [
    "demo = gr.Interface(\n",
    "    fn=model_inference,\n",
    "    inputs=[\n",
    "        gr.Number(value=81),\n",
    "        gr.Number(value=22),\n",
    "        gr.Number(value=0),\n",
    "        gr.Radio([\"None\", \"PAA\", \"PVP\", \"PEG\", \"PEI\", \"PSS\"], value='PVP'),\n",
    "        gr.Number(value=40),\n",
    "        gr.Number(value=0.34),\n",
    "        gr.Radio(\n",
    "            [\n",
    "                \"None\",\n",
    "                \"Hexadecyltrimethylammonium bromide\",\n",
    "                \"Myristyltrimethylammonium bromide\",\n",
    "                \"Triton X-100\",\n",
    "                \"Sodium dodecylsulfate\",\n",
    "            ], value='Myristyltrimethylammonium bromide'\n",
    "        ),\n",
    "        gr.Number(value=0.43),\n",
    "        gr.Radio(\n",
    "            [\n",
    "                \"None\",\n",
    "                \"1-Hexanol\",\n",
    "                \"Dimethylformamide\",\n",
    "                \"Ethylene glycol\",\n",
    "                \"Isopropyl alcohol\",\n",
    "                \"Methyl alcohol\",\n",
    "                \"Propylene glycol\",\n",
    "                \"tert-Butanol\",\n",
    "            ], value='None'\n",
    "        ),\n",
    "        gr.Number(value=0),\n",
    "        gr.Number(value=0),\n",
    "        gr.Number(value=58),\n",
    "        gr.Number(value=5340),\n",
    "    ],\n",
    "    outputs=[gr.components.Textbox(label=\"Synthesis text\"), gr.components.Image(type=\"pil\")],\n",
    "    examples=examples,\n",
    "    title=\"Nanomaterial morphology predicting system\",\n",
    "    description=\"This project was created during SWW Summer 2023. It aims at creating a Text-to-Image model for generating SEM images of nanoparticles obtained by co-precipitation method from their synthesis text.\",\n",
    ")\n",
    "\n",
    "demo.launch()"
   ]
  }
 ],
 "metadata": {
  "kernelspec": {
   "display_name": "cc",
   "language": "python",
   "name": "python3"
  },
  "language_info": {
   "codemirror_mode": {
    "name": "ipython",
    "version": 3
   },
   "file_extension": ".py",
   "mimetype": "text/x-python",
   "name": "python",
   "nbconvert_exporter": "python",
   "pygments_lexer": "ipython3",
   "version": "3.10.12"
  },
  "orig_nbformat": 4
 },
 "nbformat": 4,
 "nbformat_minor": 2
}
